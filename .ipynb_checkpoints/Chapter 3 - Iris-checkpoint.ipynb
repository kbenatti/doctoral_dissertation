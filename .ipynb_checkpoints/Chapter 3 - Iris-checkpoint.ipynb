{
 "cells": [
  {
   "cell_type": "markdown",
   "metadata": {},
   "source": [
    "**Imports**"
   ]
  },
  {
   "cell_type": "code",
   "execution_count": 1,
   "metadata": {},
   "outputs": [],
   "source": [
    "import warnings\n",
    "warnings.filterwarnings('ignore')\n",
    "\n",
    "import pandas as pd\n",
    "import numpy as np\n",
    "import os\n",
    "\n",
    "np.random.seed(42)\n",
    "\n",
    "import matplotlib.pyplot as plt\n",
    "import seaborn as sns\n",
    "%matplotlib inline"
   ]
  },
  {
   "cell_type": "markdown",
   "metadata": {},
   "source": [
    "# Agrupamento - Iris"
   ]
  },
  {
   "cell_type": "code",
   "execution_count": 2,
   "metadata": {},
   "outputs": [
    {
     "name": "stdout",
     "output_type": "stream",
     "text": [
      "INFO:tensorflow:Enabling eager execution\n",
      "INFO:tensorflow:Enabling v2 tensorshape\n",
      "INFO:tensorflow:Enabling resource variables\n",
      "INFO:tensorflow:Enabling tensor equality\n",
      "INFO:tensorflow:Enabling control flow v2\n"
     ]
    }
   ],
   "source": [
    "import tensorflow as tf\n",
    "from sklearn.datasets import load_iris\n",
    "data = load_iris()"
   ]
  },
  {
   "cell_type": "code",
   "execution_count": 3,
   "metadata": {},
   "outputs": [],
   "source": [
    "X_train, Y_train = data.data, data.target"
   ]
  },
  {
   "cell_type": "code",
   "execution_count": 4,
   "metadata": {},
   "outputs": [],
   "source": [
    "from sklearn.preprocessing import MinMaxScaler\n",
    "scaler = MinMaxScaler()"
   ]
  },
  {
   "cell_type": "code",
   "execution_count": 5,
   "metadata": {},
   "outputs": [],
   "source": [
    "X_train = scaler.fit_transform(X_train)"
   ]
  },
  {
   "cell_type": "code",
   "execution_count": 6,
   "metadata": {},
   "outputs": [],
   "source": [
    "centroides = [np.random.rand(3,4) for i in range(10)]"
   ]
  },
  {
   "cell_type": "markdown",
   "metadata": {},
   "source": [
    "### Aplicação do K-means"
   ]
  },
  {
   "cell_type": "code",
   "execution_count": 7,
   "metadata": {},
   "outputs": [
    {
     "name": "stdout",
     "output_type": "stream",
     "text": [
      "Acurácia: 0.8866666666666667\n",
      "Acurácia: 0.8866666666666667\n",
      "Acurácia: 0.8866666666666667\n",
      "Acurácia: 0.8866666666666667\n",
      "Acurácia: 0.8866666666666667\n",
      "Acurácia: 0.58\n",
      "Acurácia: 0.88\n",
      "Acurácia: 0.88\n",
      "Acurácia: 0.88\n",
      "Acurácia: 0.8866666666666667\n"
     ]
    }
   ],
   "source": [
    "from sklearn.cluster import KMeans\n",
    "\n",
    "melhor_acuracia = 0\n",
    "\n",
    "for cent_init in centroides:\n",
    "\n",
    "    kmeans = KMeans(n_clusters = 3, init = cent_init, random_state = 42)\n",
    "    kmeans.fit(X_train)\n",
    "\n",
    "    Y_pred = kmeans.labels_\n",
    "\n",
    "    confusion_matrix = np.zeros((3,3))\n",
    "    for i in range(3):\n",
    "        for j in range(3):\n",
    "            confusion_matrix[i,j] = sum((kmeans.labels_ == i) & (Y_train == j))\n",
    "\n",
    "    df_cm = pd.DataFrame(confusion_matrix, index = [i for i in \"012\"],\n",
    "                      columns = [i for i in \"012\"])\n",
    "\n",
    "    c = df_cm.copy()\n",
    "    mapping = {}\n",
    "\n",
    "    for a in range(3):\n",
    "        ind_x, ind_y = np.unravel_index(np.argmax(c, axis=None), c.shape)\n",
    "        mapping[int(c.index[ind_x])] = int(c.columns[ind_y])\n",
    "        c.drop([c.index[ind_x]], axis=0, inplace=True)\n",
    "        c.drop([c.columns[ind_y]], axis=1, inplace=True)\n",
    "\n",
    "    Y_pred = np.array([mapping[x] for x in kmeans.labels_])\n",
    "\n",
    "    confusion_matrix = np.zeros((3,3))\n",
    "    for i in range(3):\n",
    "        for j in range(3):\n",
    "            confusion_matrix[i,j] = sum((Y_pred == i) & (Y_train == j))\n",
    "\n",
    "    df_cm = pd.DataFrame(confusion_matrix, index = [i for i in \"012\"],\n",
    "                      columns = [i for i in \"012\"])\n",
    "\n",
    "    acuracia = np.sum(confusion_matrix.diagonal())/np.sum(confusion_matrix)\n",
    "    if melhor_acuracia<acuracia:\n",
    "        melhor_acuracia=acuracia\n",
    "        melhor_ypred = Y_pred\n",
    "        melhor_confusion_matrix = confusion_matrix\n",
    "\n",
    "    print('Acurácia:', acuracia)"
   ]
  },
  {
   "cell_type": "code",
   "execution_count": 8,
   "metadata": {},
   "outputs": [
    {
     "data": {
      "image/png": "[encoded data removed]",
      "text/plain": [
       "<Figure size 288x144 with 2 Axes>"
      ]
     },
     "metadata": {
      "needs_background": "light"
     },
     "output_type": "display_data"
    }
   ],
   "source": [
    "plt.figure(figsize = (4,2))\n",
    "sns.heatmap(df_cm, annot=True)\n",
    "plt.tight_layout()\n",
    "plt.show()"
   ]
  },
  {
   "cell_type": "markdown",
   "metadata": {},
   "source": [
    "### Aplicação do K-means adaptativo exato"
   ]
  },
  {
   "cell_type": "code",
   "execution_count": 9,
   "metadata": {},
   "outputs": [
    {
     "name": "stdout",
     "output_type": "stream",
     "text": [
      "Acurácia: 0.8933333333333333\n",
      "Acurácia: 0.8933333333333333\n",
      "Acurácia: 0.8933333333333333\n",
      "Acurácia: 0.8933333333333333\n",
      "Acurácia: 0.8933333333333333\n",
      "Acurácia: 0.8933333333333333\n",
      "Acurácia: 0.8933333333333333\n",
      "Acurácia: 0.8933333333333333\n",
      "Acurácia: 0.8933333333333333\n",
      "Acurácia: 0.8933333333333333\n"
     ]
    }
   ],
   "source": [
    "from hard import kmeans_constraints_exato\n",
    "\n",
    "melhor_acuracia = 0\n",
    "\n",
    "for cent_init in centroides:\n",
    "\n",
    "    n_samples = len(X_train)\n",
    "    clusters = 3\n",
    "    Z = np.ones((n_samples,))\n",
    "    mu = Z.sum()/clusters*np.ones((clusters,))\n",
    "\n",
    "    LABELS = kmeans_constraints_exato(X_train,Z,clusters,cent_init,mu)\n",
    "    labels = LABELS[-1]\n",
    "\n",
    "    confusion_matrix = np.zeros((3,3))\n",
    "    for i in range(3):\n",
    "        for j in range(3):\n",
    "            confusion_matrix[i,j] = sum((labels == i) & (Y_train == j))\n",
    "\n",
    "    df_cm = pd.DataFrame(confusion_matrix, index = [i for i in \"012\"],\n",
    "                      columns = [i for i in \"012\"])\n",
    "\n",
    "    c = df_cm.copy()\n",
    "    mapping = {}\n",
    "\n",
    "    for a in range(3):\n",
    "        ind_x, ind_y = np.unravel_index(np.argmax(c, axis=None), c.shape)\n",
    "        mapping[int(c.index[ind_x])] = int(c.columns[ind_y])\n",
    "        c.drop([c.index[ind_x]], axis=0, inplace=True)\n",
    "        c.drop([c.columns[ind_y]], axis=1, inplace=True)\n",
    "\n",
    "    Y_pred = np.array([mapping[x] for x in labels])\n",
    "\n",
    "    confusion_matrix = np.zeros((3,3))\n",
    "    for i in range(3):\n",
    "        for j in range(3):\n",
    "            confusion_matrix[i,j] = sum((Y_pred == i) & (Y_train == j))\n",
    "\n",
    "    df_cm = pd.DataFrame(confusion_matrix, index = [i for i in \"012\"],\n",
    "                      columns = [i for i in \"012\"])\n",
    "\n",
    "    acuracia = np.sum(confusion_matrix.diagonal())/np.sum(confusion_matrix)\n",
    "    if melhor_acuracia<acuracia:\n",
    "        melhor_acuracia=acuracia\n",
    "        melhor_ypred = Y_pred\n",
    "        melhor_confusion_matrix = confusion_matrix\n",
    "\n",
    "    print('Acurácia:', acuracia)"
   ]
  },
  {
   "cell_type": "code",
   "execution_count": 10,
   "metadata": {},
   "outputs": [
    {
     "data": {
      "image/png": "[encoded data removed]",
      "text/plain": [
       "<Figure size 288x144 with 2 Axes>"
      ]
     },
     "metadata": {
      "needs_background": "light"
     },
     "output_type": "display_data"
    }
   ],
   "source": [
    "plt.figure(figsize = (4,2))\n",
    "sns.heatmap(df_cm, annot=True)\n",
    "plt.tight_layout()\n",
    "plt.show()\n",
    "\n",
    "Y_pred = np.array([mapping[x] for x in labels])"
   ]
  },
  {
   "cell_type": "markdown",
   "metadata": {},
   "source": [
    "### Aplicação do K-means adaptativo com função de priorização"
   ]
  },
  {
   "cell_type": "code",
   "execution_count": 7,
   "metadata": {},
   "outputs": [
    {
     "name": "stdout",
     "output_type": "stream",
     "text": [
      "Acurácia: 0.9066666666666666\n",
      "Acurácia: 0.9066666666666666\n",
      "Acurácia: 0.92\n",
      "Acurácia: 0.92\n",
      "Acurácia: 0.9066666666666666\n",
      "Acurácia: 0.9066666666666666\n",
      "Acurácia: 0.9066666666666666\n",
      "Acurácia: 0.92\n",
      "Acurácia: 0.92\n",
      "Acurácia: 0.92\n"
     ]
    }
   ],
   "source": [
    "from hard import pert_quad, kmeans_capacity_constraints\n",
    "\n",
    "melhor_acuracia = 0\n",
    "\n",
    "for cent_init in centroides:\n",
    "\n",
    "    n_samples = len(X_train)\n",
    "    clusters = 3\n",
    "    Z = np.ones((n_samples,))\n",
    "    mu = Z.sum()/clusters*np.ones((clusters,))\n",
    "\n",
    "    LABELS, _ = kmeans_capacity_constraints(X_train,Z,clusters,pert_quad,cent_init,mu)\n",
    "    labels = LABELS[-1]\n",
    "\n",
    "    confusion_matrix = np.zeros((3,3))\n",
    "    for i in range(3):\n",
    "        for j in range(3):\n",
    "            confusion_matrix[i,j] = sum((labels == i) & (Y_train == j))\n",
    "\n",
    "    df_cm = pd.DataFrame(confusion_matrix, index = [i for i in \"012\"],\n",
    "                      columns = [i for i in \"012\"])\n",
    "\n",
    "    c = df_cm.copy()\n",
    "    mapping = {}\n",
    "\n",
    "    for a in range(3):\n",
    "        ind_x, ind_y = np.unravel_index(np.argmax(c, axis=None), c.shape)\n",
    "        mapping[int(c.index[ind_x])] = int(c.columns[ind_y])\n",
    "        c.drop([c.index[ind_x]], axis=0, inplace=True)\n",
    "        c.drop([c.columns[ind_y]], axis=1, inplace=True)\n",
    "\n",
    "    Y_pred = np.array([mapping[x] for x in labels])\n",
    "\n",
    "    confusion_matrix = np.zeros((3,3))\n",
    "    for i in range(3):\n",
    "        for j in range(3):\n",
    "            confusion_matrix[i,j] = sum((Y_pred == i) & (Y_train == j))\n",
    "\n",
    "    df_cm = pd.DataFrame(confusion_matrix, index = [i for i in \"012\"],\n",
    "                      columns = [i for i in \"012\"])\n",
    "\n",
    "    acuracia = np.sum(confusion_matrix.diagonal())/np.sum(confusion_matrix)\n",
    "    if melhor_acuracia<acuracia:\n",
    "        melhor_acuracia=acuracia\n",
    "        melhor_ypred = Y_pred\n",
    "        melhor_confusion_matrix = confusion_matrix\n",
    "\n",
    "    print('Acurácia:', acuracia)"
   ]
  },
  {
   "cell_type": "code",
   "execution_count": 8,
   "metadata": {},
   "outputs": [
    {
     "data": {
      "image/png": "[encoded data removed]",
      "text/plain": [
       "<Figure size 288x144 with 2 Axes>"
      ]
     },
     "metadata": {
      "needs_background": "light"
     },
     "output_type": "display_data"
    }
   ],
   "source": [
    "plt.figure(figsize = (4,2))\n",
    "sns.heatmap(df_cm, annot=True)\n",
    "plt.tight_layout()\n",
    "plt.show()\n",
    "\n",
    "Y_pred = np.array([mapping[x] for x in labels])"
   ]
  }
 ],
 "metadata": {
  "kernelspec": {
   "display_name": "Python 3",
   "language": "python",
   "name": "python3"
  },
  "language_info": {
   "codemirror_mode": {
    "name": "ipython",
    "version": 3
   },
   "file_extension": ".py",
   "mimetype": "text/x-python",
   "name": "python",
   "nbconvert_exporter": "python",
   "pygments_lexer": "ipython3",
   "version": "3.9.1"
  }
 },
 "nbformat": 4,
 "nbformat_minor": 4
}
