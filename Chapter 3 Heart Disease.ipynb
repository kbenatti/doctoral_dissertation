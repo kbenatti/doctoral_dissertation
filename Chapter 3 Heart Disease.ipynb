{
 "cells": [
  {
   "cell_type": "markdown",
   "metadata": {},
   "source": [
    "**Imports**"
   ]
  },
  {
   "cell_type": "code",
   "execution_count": 1,
   "metadata": {},
   "outputs": [],
   "source": [
    "import warnings\n",
    "warnings.filterwarnings('ignore')\n",
    "\n",
    "import pandas as pd\n",
    "import numpy as np\n",
    "import os\n",
    "\n",
    "np.random.seed(42)\n",
    "\n",
    "import matplotlib.pyplot as plt\n",
    "import seaborn as sns\n",
    "%matplotlib inline"
   ]
  },
  {
   "cell_type": "markdown",
   "metadata": {},
   "source": [
    "# Agrupamento - Heart Disease"
   ]
  },
  {
   "cell_type": "code",
   "execution_count": 2,
   "metadata": {},
   "outputs": [],
   "source": [
    "df = pd.read_csv('data/heart.csv')"
   ]
  },
  {
   "cell_type": "code",
   "execution_count": 3,
   "metadata": {},
   "outputs": [],
   "source": [
    "X_train = df.drop(['target'], axis=1)\n",
    "Y_train = df['target']"
   ]
  },
  {
   "cell_type": "code",
   "execution_count": 4,
   "metadata": {},
   "outputs": [],
   "source": [
    "from sklearn.preprocessing import MinMaxScaler\n",
    "scaler = MinMaxScaler()"
   ]
  },
  {
   "cell_type": "code",
   "execution_count": 5,
   "metadata": {},
   "outputs": [],
   "source": [
    "X_train = scaler.fit_transform(X_train)"
   ]
  },
  {
   "cell_type": "code",
   "execution_count": 6,
   "metadata": {},
   "outputs": [],
   "source": [
    "centroides = [np.random.rand(2,13) for i in range(10)]"
   ]
  },
  {
   "cell_type": "markdown",
   "metadata": {},
   "source": [
    "### Aplicação do K-means"
   ]
  },
  {
   "cell_type": "code",
   "execution_count": 7,
   "metadata": {},
   "outputs": [
    {
     "name": "stdout",
     "output_type": "stream",
     "text": [
      "Acurácia: 0.7194719471947195\n",
      "Acurácia: 0.6138613861386139\n",
      "Acurácia: 0.7194719471947195\n",
      "Acurácia: 0.6138613861386139\n",
      "Acurácia: 0.7194719471947195\n",
      "Acurácia: 0.45874587458745875\n",
      "Acurácia: 0.7194719471947195\n",
      "Acurácia: 0.7194719471947195\n",
      "Acurácia: 0.7194719471947195\n",
      "Acurácia: 0.7194719471947195\n"
     ]
    }
   ],
   "source": [
    "from sklearn.cluster import KMeans\n",
    "\n",
    "melhor_acuracia = 0\n",
    "\n",
    "for cent_init in centroides:\n",
    "\n",
    "    kmeans = KMeans(n_clusters = 2, init = cent_init, random_state = 42)\n",
    "    kmeans.fit(X_train)\n",
    "\n",
    "    Y_pred = kmeans.labels_\n",
    "\n",
    "    confusion_matrix = np.zeros((2,2))\n",
    "    for i in range(2):\n",
    "        for j in range(2):\n",
    "            confusion_matrix[i,j] = sum((kmeans.labels_ == i) & (Y_train == j))\n",
    "\n",
    "    df_cm = pd.DataFrame(confusion_matrix, index = [i for i in \"01\"],\n",
    "                      columns = [i for i in \"01\"])\n",
    "\n",
    "    c = df_cm.copy()\n",
    "    mapping = {}\n",
    "\n",
    "    for a in range(2):\n",
    "        ind_x, ind_y = np.unravel_index(np.argmax(c, axis=None), c.shape)\n",
    "        mapping[int(c.index[ind_x])] = int(c.columns[ind_y])\n",
    "        c.drop([c.index[ind_x]], axis=0, inplace=True)\n",
    "        c.drop([c.columns[ind_y]], axis=1, inplace=True)\n",
    "\n",
    "    Y_pred = np.array([mapping[x] for x in kmeans.labels_])\n",
    "\n",
    "    confusion_matrix = np.zeros((2,2))\n",
    "    for i in range(2):\n",
    "        for j in range(2):\n",
    "            confusion_matrix[i,j] = sum((Y_pred == i) & (Y_train == j))\n",
    "\n",
    "    df_cm = pd.DataFrame(confusion_matrix, index = [i for i in \"01\"],\n",
    "                      columns = [i for i in \"01\"])\n",
    "\n",
    "    acuracia = np.sum(confusion_matrix.diagonal())/np.sum(confusion_matrix)\n",
    "    if melhor_acuracia<acuracia:\n",
    "        melhor_acuracia=acuracia\n",
    "        melhor_ypred = Y_pred\n",
    "        melhor_confusion_matrix = confusion_matrix\n",
    "\n",
    "    print('Acurácia:', acuracia)"
   ]
  },
  {
   "cell_type": "code",
   "execution_count": 8,
   "metadata": {},
   "outputs": [
    {
     "data": {
      "image/png": "[encoded data removed]",
      "text/plain": [
       "<Figure size 360x216 with 2 Axes>"
      ]
     },
     "metadata": {
      "needs_background": "light"
     },
     "output_type": "display_data"
    }
   ],
   "source": [
    "df_cm = pd.DataFrame(melhor_confusion_matrix, index = [i for i in \"01\"],\n",
    "                      columns = [i for i in \"01\"])\n",
    "\n",
    "plt.figure(figsize = (5,3))\n",
    "sns.heatmap(df_cm, annot=True)\n",
    "plt.tight_layout()\n",
    "plt.show()"
   ]
  },
  {
   "cell_type": "markdown",
   "metadata": {},
   "source": [
    "### Aplicação do K-means adaptativo"
   ]
  },
  {
   "cell_type": "code",
   "execution_count": 9,
   "metadata": {},
   "outputs": [
    {
     "name": "stdout",
     "output_type": "stream",
     "text": [
      "Acurácia: 0.7194719471947195\n",
      "Acurácia: 0.693069306930693\n",
      "Acurácia: 0.504950495049505\n",
      "Acurácia: 0.5676567656765676\n",
      "Acurácia: 0.7722772277227723\n",
      "Acurácia: 0.5676567656765676\n",
      "Acurácia: 0.7821782178217822\n",
      "Acurácia: 0.7755775577557755\n",
      "Acurácia: 0.7755775577557755\n",
      "Acurácia: 0.7722772277227723\n"
     ]
    }
   ],
   "source": [
    "from hard import kmeans_constraints_exato\n",
    "melhor_acuracia = 0\n",
    "\n",
    "for cent_init in centroides:\n",
    "\n",
    "    n_samples = len(X_train)\n",
    "    clusters = 2\n",
    "    Z = np.ones((n_samples,))\n",
    "    mu = np.array([165,138])\n",
    "\n",
    "    LABELS = kmeans_constraints_exato(X_train,Z,clusters,cent_init,mu)\n",
    "    labels = LABELS[-1]\n",
    "\n",
    "    confusion_matrix = np.zeros((2,2))\n",
    "    for i in range(2):\n",
    "        for j in range(2):\n",
    "            confusion_matrix[i,j] = sum((labels == i) & (Y_train == j))\n",
    "\n",
    "    df_cm = pd.DataFrame(confusion_matrix, index = [i for i in \"01\"],\n",
    "                      columns = [i for i in \"01\"])\n",
    "\n",
    "    c = df_cm.copy()\n",
    "    mapping = {}\n",
    "\n",
    "    for a in range(2):\n",
    "        ind_x, ind_y = np.unravel_index(np.argmax(c, axis=None), c.shape)\n",
    "        mapping[int(c.index[ind_x])] = int(c.columns[ind_y])\n",
    "        c.drop([c.index[ind_x]], axis=0, inplace=True)\n",
    "        c.drop([c.columns[ind_y]], axis=1, inplace=True)\n",
    "    \n",
    "    Y_pred = np.array([mapping[x] for x in labels])\n",
    "    \n",
    "    confusion_matrix = np.zeros((2,2))\n",
    "    for i in range(2):\n",
    "        for j in range(2):\n",
    "            confusion_matrix[i,j] = sum((Y_pred == i) & (Y_train == j))\n",
    "\n",
    "    df_cm = pd.DataFrame(confusion_matrix, index = [i for i in \"01\"],\n",
    "                      columns = [i for i in \"01\"])\n",
    "    \n",
    "    acuracia = np.sum(confusion_matrix.diagonal())/np.sum(confusion_matrix)\n",
    "    if melhor_acuracia<acuracia:\n",
    "        melhor_acuracia=acuracia\n",
    "        melhor_ypred = Y_pred\n",
    "        melhor_confusion_matrix = confusion_matrix\n",
    "\n",
    "    print('Acurácia:', acuracia)"
   ]
  },
  {
   "cell_type": "code",
   "execution_count": 10,
   "metadata": {},
   "outputs": [
    {
     "data": {
      "image/png": "[encoded data removed]",
      "text/plain": [
       "<Figure size 360x216 with 2 Axes>"
      ]
     },
     "metadata": {
      "needs_background": "light"
     },
     "output_type": "display_data"
    }
   ],
   "source": [
    "df_cm = pd.DataFrame(melhor_confusion_matrix, index = [i for i in \"01\"],\n",
    "                      columns = [i for i in \"01\"])\n",
    "\n",
    "plt.figure(figsize = (5,3))\n",
    "sns.heatmap(df_cm, annot=True)\n",
    "plt.tight_layout()\n",
    "plt.show()"
   ]
  },
  {
   "cell_type": "markdown",
   "metadata": {},
   "source": [
    "### Aplicação do K-means adaptativo com função de priorização identidade"
   ]
  },
  {
   "cell_type": "code",
   "execution_count": 11,
   "metadata": {},
   "outputs": [
    {
     "name": "stdout",
     "output_type": "stream",
     "text": [
      "Acurácia: 0.7557755775577558\n",
      "Acurácia: 0.7887788778877888\n",
      "Acurácia: 0.5610561056105611\n",
      "Acurácia: 0.47854785478547857\n",
      "Acurácia: 0.6567656765676567\n",
      "Acurácia: 0.6501650165016502\n",
      "Acurácia: 0.7623762376237624\n",
      "Acurácia: 0.6831683168316832\n",
      "Acurácia: 0.7095709570957096\n",
      "Acurácia: 0.7227722772277227\n"
     ]
    }
   ],
   "source": [
    "from hard import pert_ident, pert_quad, softmax, kmeans_capacity_constraints\n",
    "\n",
    "melhor_acuracia = 0\n",
    "mu = np.array([165,138])\n",
    "\n",
    "for cent_init in centroides:\n",
    "\n",
    "    n_samples = len(X_train)\n",
    "    clusters = 2\n",
    "    Z = np.ones((n_samples,))\n",
    "    mu = np.array([165,138])\n",
    "\n",
    "    LABELS, _ = kmeans_capacity_constraints(X_train,Z,clusters,pert_ident,cent_init,mu)\n",
    "    labels = LABELS[-1]\n",
    "\n",
    "    confusion_matrix = np.zeros((2,2))\n",
    "    for i in range(2):\n",
    "        for j in range(2):\n",
    "            confusion_matrix[i,j] = sum((labels == i) & (Y_train == j))\n",
    "\n",
    "    df_cm = pd.DataFrame(confusion_matrix, index = [i for i in \"01\"],\n",
    "                      columns = [i for i in \"01\"])\n",
    "\n",
    "    c = df_cm.copy()\n",
    "    mapping = {}\n",
    "\n",
    "    for a in range(2):\n",
    "        ind_x, ind_y = np.unravel_index(np.argmax(c, axis=None), c.shape)\n",
    "        mapping[int(c.index[ind_x])] = int(c.columns[ind_y])\n",
    "        c.drop([c.index[ind_x]], axis=0, inplace=True)\n",
    "        c.drop([c.columns[ind_y]], axis=1, inplace=True)\n",
    "    \n",
    "    Y_pred = np.array([mapping[x] for x in labels])\n",
    "    \n",
    "    confusion_matrix = np.zeros((2,2))\n",
    "    for i in range(2):\n",
    "        for j in range(2):\n",
    "            confusion_matrix[i,j] = sum((Y_pred == i) & (Y_train == j))\n",
    "\n",
    "    df_cm = pd.DataFrame(confusion_matrix, index = [i for i in \"01\"],\n",
    "                      columns = [i for i in \"01\"])\n",
    "    \n",
    "    acuracia = np.sum(confusion_matrix.diagonal())/np.sum(confusion_matrix)\n",
    "    if melhor_acuracia<acuracia:\n",
    "        melhor_acuracia=acuracia\n",
    "        melhor_ypred = Y_pred\n",
    "        melhor_confusion_matrix = confusion_matrix\n",
    "\n",
    "    print('Acurácia:', acuracia)"
   ]
  },
  {
   "cell_type": "code",
   "execution_count": 12,
   "metadata": {},
   "outputs": [
    {
     "data": {
      "image/png": "[encoded data removed]",
      "text/plain": [
       "<Figure size 360x216 with 2 Axes>"
      ]
     },
     "metadata": {
      "needs_background": "light"
     },
     "output_type": "display_data"
    }
   ],
   "source": [
    "df_cm = pd.DataFrame(melhor_confusion_matrix, index = [i for i in \"01\"],\n",
    "                      columns = [i for i in \"01\"])\n",
    "\n",
    "plt.figure(figsize = (5,3))\n",
    "sns.heatmap(df_cm, annot=True)\n",
    "plt.tight_layout()\n",
    "plt.show()"
   ]
  },
  {
   "cell_type": "markdown",
   "metadata": {},
   "source": [
    "### Aplicação do K-means adaptativo com função de priorização quadrática"
   ]
  },
  {
   "cell_type": "code",
   "execution_count": 13,
   "metadata": {},
   "outputs": [
    {
     "name": "stdout",
     "output_type": "stream",
     "text": [
      "Acurácia: 0.7557755775577558\n",
      "Acurácia: 0.7821782178217822\n",
      "Acurácia: 0.6303630363036303\n",
      "Acurácia: 0.5544554455445545\n",
      "Acurácia: 0.7161716171617162\n",
      "Acurácia: 0.7227722772277227\n",
      "Acurácia: 0.7623762376237624\n",
      "Acurácia: 0.7557755775577558\n",
      "Acurácia: 0.7623762376237624\n",
      "Acurácia: 0.7425742574257426\n"
     ]
    }
   ],
   "source": [
    "melhor_acuracia = 0\n",
    "mu = np.array([165,138])\n",
    "\n",
    "for cent_init in centroides:\n",
    "\n",
    "    n_samples = len(X_train)\n",
    "    clusters = 2\n",
    "    Z = np.ones((n_samples,))\n",
    "    mu = np.array([165,138])\n",
    "\n",
    "    LABELS, _ = kmeans_capacity_constraints(X_train,Z,clusters,pert_quad,cent_init,mu)\n",
    "    labels = LABELS[-1]\n",
    "\n",
    "    confusion_matrix = np.zeros((2,2))\n",
    "    for i in range(2):\n",
    "        for j in range(2):\n",
    "            confusion_matrix[i,j] = sum((labels == i) & (Y_train == j))\n",
    "\n",
    "    df_cm = pd.DataFrame(confusion_matrix, index = [i for i in \"01\"],\n",
    "                      columns = [i for i in \"01\"])\n",
    "\n",
    "    c = df_cm.copy()\n",
    "    mapping = {}\n",
    "\n",
    "    for a in range(2):\n",
    "        ind_x, ind_y = np.unravel_index(np.argmax(c, axis=None), c.shape)\n",
    "        mapping[int(c.index[ind_x])] = int(c.columns[ind_y])\n",
    "        c.drop([c.index[ind_x]], axis=0, inplace=True)\n",
    "        c.drop([c.columns[ind_y]], axis=1, inplace=True)\n",
    "    \n",
    "    Y_pred = np.array([mapping[x] for x in labels])\n",
    "    \n",
    "    confusion_matrix = np.zeros((2,2))\n",
    "    for i in range(2):\n",
    "        for j in range(2):\n",
    "            confusion_matrix[i,j] = sum((Y_pred == i) & (Y_train == j))\n",
    "\n",
    "    df_cm = pd.DataFrame(confusion_matrix, index = [i for i in \"01\"],\n",
    "                      columns = [i for i in \"01\"])\n",
    "    \n",
    "    acuracia = np.sum(confusion_matrix.diagonal())/np.sum(confusion_matrix)\n",
    "    if melhor_acuracia<acuracia:\n",
    "        melhor_acuracia=acuracia\n",
    "        melhor_ypred = Y_pred\n",
    "        melhor_confusion_matrix = confusion_matrix\n",
    "\n",
    "    print('Acurácia:', acuracia)"
   ]
  },
  {
   "cell_type": "code",
   "execution_count": 14,
   "metadata": {},
   "outputs": [
    {
     "data": {
      "image/png": "[encoded data removed]",
      "text/plain": [
       "<Figure size 360x216 with 2 Axes>"
      ]
     },
     "metadata": {
      "needs_background": "light"
     },
     "output_type": "display_data"
    }
   ],
   "source": [
    "df_cm = pd.DataFrame(melhor_confusion_matrix, index = [i for i in \"01\"],\n",
    "                      columns = [i for i in \"01\"])\n",
    "\n",
    "plt.figure(figsize = (5,3))\n",
    "sns.heatmap(df_cm, annot=True)\n",
    "plt.tight_layout()\n",
    "plt.show()"
   ]
  },
  {
   "cell_type": "markdown",
   "metadata": {},
   "source": [
    "### Aplicação do K-means adaptativo com função de priorização softmax"
   ]
  },
  {
   "cell_type": "code",
   "execution_count": 15,
   "metadata": {},
   "outputs": [
    {
     "name": "stdout",
     "output_type": "stream",
     "text": [
      "Acurácia: 0.7623762376237624\n",
      "Acurácia: 0.768976897689769\n",
      "Acurácia: 0.66996699669967\n",
      "Acurácia: 0.6501650165016502\n",
      "Acurácia: 0.7425742574257426\n",
      "Acurácia: 0.7557755775577558\n",
      "Acurácia: 0.768976897689769\n",
      "Acurácia: 0.7623762376237624\n",
      "Acurácia: 0.7491749174917491\n",
      "Acurácia: 0.7623762376237624\n"
     ]
    }
   ],
   "source": [
    "from hard import pert_quad, kmeans_capacity_constraints\n",
    "\n",
    "melhor_acuracia = 0\n",
    "mu = np.array([165,138])\n",
    "\n",
    "for cent_init in centroides:\n",
    "\n",
    "    n_samples = len(X_train)\n",
    "    clusters = 2\n",
    "    Z = np.ones((n_samples,))\n",
    "    mu = np.array([165,138])\n",
    "\n",
    "    LABELS, _ = kmeans_capacity_constraints(X_train,Z,clusters,softmax,cent_init,mu)\n",
    "    labels = LABELS[-1]\n",
    "\n",
    "    confusion_matrix = np.zeros((2,2))\n",
    "    for i in range(2):\n",
    "        for j in range(2):\n",
    "            confusion_matrix[i,j] = sum((labels == i) & (Y_train == j))\n",
    "\n",
    "    df_cm = pd.DataFrame(confusion_matrix, index = [i for i in \"01\"],\n",
    "                      columns = [i for i in \"01\"])\n",
    "\n",
    "    c = df_cm.copy()\n",
    "    mapping = {}\n",
    "\n",
    "    for a in range(2):\n",
    "        ind_x, ind_y = np.unravel_index(np.argmax(c, axis=None), c.shape)\n",
    "        mapping[int(c.index[ind_x])] = int(c.columns[ind_y])\n",
    "        c.drop([c.index[ind_x]], axis=0, inplace=True)\n",
    "        c.drop([c.columns[ind_y]], axis=1, inplace=True)\n",
    "    \n",
    "    Y_pred = np.array([mapping[x] for x in labels])\n",
    "    \n",
    "    confusion_matrix = np.zeros((2,2))\n",
    "    for i in range(2):\n",
    "        for j in range(2):\n",
    "            confusion_matrix[i,j] = sum((Y_pred == i) & (Y_train == j))\n",
    "\n",
    "    df_cm = pd.DataFrame(confusion_matrix, index = [i for i in \"01\"],\n",
    "                      columns = [i for i in \"01\"])\n",
    "    \n",
    "    acuracia = np.sum(confusion_matrix.diagonal())/np.sum(confusion_matrix)\n",
    "    if melhor_acuracia<acuracia:\n",
    "        melhor_acuracia=acuracia\n",
    "        melhor_ypred = Y_pred\n",
    "        melhor_confusion_matrix = confusion_matrix\n",
    "\n",
    "    print('Acurácia:', acuracia)"
   ]
  },
  {
   "cell_type": "code",
   "execution_count": 16,
   "metadata": {},
   "outputs": [
    {
     "data": {
      "image/png": "[encoded data removed]",
      "text/plain": [
       "<Figure size 360x216 with 2 Axes>"
      ]
     },
     "metadata": {
      "needs_background": "light"
     },
     "output_type": "display_data"
    }
   ],
   "source": [
    "df_cm = pd.DataFrame(melhor_confusion_matrix, index = [i for i in \"01\"],\n",
    "                      columns = [i for i in \"01\"])\n",
    "\n",
    "plt.figure(figsize = (5,3))\n",
    "sns.heatmap(df_cm, annot=True)\n",
    "plt.tight_layout()\n",
    "plt.show()"
   ]
  },
  {
   "cell_type": "code",
   "execution_count": 18,
   "metadata": {},
   "outputs": [],
   "source": [
    "boxplot = pd.DataFrame()\n",
    "\n",
    "boxplot['K-means'] = [0.7194, 0.6138, 0.7194, 0.6138, 0.7194, 0.4587, 0.7194, 0.7194, 0.7194, 0.7194]\n",
    "boxplot['Algoritmo 2'] = [0.7194, 0.6930, 0.5049, 0.5676, 0.7722, 0.5676, 0.7821, 0.7755, 0.7755, 0.7722]\n",
    "boxplot['Algoritmo 3I'] = [0.7557, 0.7887, 0.5610, 0.4785, 0.6567, 0.6501, 0.7623, 0.6831, 0.7095, 0.7227]\n",
    "boxplot['Algoritmo 3Q'] = [0.7557, 0.7821, 0.6303, 0.5544, 0.7161, 0.7227, 0.7623, 0.7557, 0.7623, 0.7425]\n",
    "boxplot['Algoritmo 3S'] = [0.7623, 0.7689, 0.6699, 0.6501, 0.7425, 0.7557, 0.7689, 0.7623, 0.7491, 0.7623]"
   ]
  },
  {
   "cell_type": "code",
   "execution_count": 19,
   "metadata": {},
   "outputs": [
    {
     "data": {
      "image/png": "[encoded data removed]",
      "text/plain": [
       "<Figure size 720x432 with 1 Axes>"
      ]
     },
     "metadata": {
      "needs_background": "light"
     },
     "output_type": "display_data"
    }
   ],
   "source": [
    "import pandas as pd\n",
    "fig = plt.figure(figsize=(10,6))\n",
    "boxplot.boxplot()\n",
    "\n",
    "plt.grid(None)\n",
    "plt.show()"
   ]
  }
 ],
 "metadata": {
  "kernelspec": {
   "display_name": "Python 3",
   "language": "python",
   "name": "python3"
  },
  "language_info": {
   "codemirror_mode": {
    "name": "ipython",
    "version": 3
   },
   "file_extension": ".py",
   "mimetype": "text/x-python",
   "name": "python",
   "nbconvert_exporter": "python",
   "pygments_lexer": "ipython3",
   "version": "3.9.1"
  }
 },
 "nbformat": 4,
 "nbformat_minor": 4
}
